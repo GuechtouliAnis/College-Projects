{
 "cells": [
  {
   "cell_type": "code",
   "execution_count": 1,
   "id": "c2b92da6",
   "metadata": {
    "_cell_guid": "235df916-be69-4b15-91e5-363bedae4f1f",
    "_uuid": "c9cb5ee1-4b76-4cca-8d37-acfc4d7af25c",
    "collapsed": false,
    "execution": {
     "iopub.execute_input": "2024-04-06T04:04:21.514811Z",
     "iopub.status.busy": "2024-04-06T04:04:21.514489Z",
     "iopub.status.idle": "2024-04-06T04:04:22.284322Z",
     "shell.execute_reply": "2024-04-06T04:04:22.283250Z"
    },
    "jupyter": {
     "outputs_hidden": false
    },
    "papermill": {
     "duration": 0.775794,
     "end_time": "2024-04-06T04:04:22.287014",
     "exception": false,
     "start_time": "2024-04-06T04:04:21.511220",
     "status": "completed"
    },
    "tags": []
   },
   "outputs": [],
   "source": [
    "import numpy as np\n",
    "import pandas as pd"
   ]
  }
 ],
 "metadata": {
  "kaggle": {
   "accelerator": "none",
   "dataSources": [
    {
     "datasetId": 4740391,
     "sourceId": 8040475,
     "sourceType": "datasetVersion"
    }
   ],
   "isGpuEnabled": false,
   "isInternetEnabled": true,
   "language": "python",
   "sourceType": "notebook"
  },
  "kernelspec": {
   "display_name": "Python 3",
   "language": "python",
   "name": "python3"
  },
  "language_info": {
   "codemirror_mode": {
    "name": "ipython",
    "version": 3
   },
   "file_extension": ".py",
   "mimetype": "text/x-python",
   "name": "python",
   "nbconvert_exporter": "python",
   "pygments_lexer": "ipython3",
   "version": "3.10.13"
  },
  "papermill": {
   "default_parameters": {},
   "duration": 3.708963,
   "end_time": "2024-04-06T04:04:22.708505",
   "environment_variables": {},
   "exception": null,
   "input_path": "__notebook__.ipynb",
   "output_path": "__notebook__.ipynb",
   "parameters": {},
   "start_time": "2024-04-06T04:04:18.999542",
   "version": "2.5.0"
  }
 },
 "nbformat": 4,
 "nbformat_minor": 5
}
