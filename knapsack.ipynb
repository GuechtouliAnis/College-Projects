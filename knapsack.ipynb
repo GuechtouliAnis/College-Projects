{
 "cells": [
  {
   "cell_type": "code",
   "execution_count": 1,
   "id": "a51230c3",
   "metadata": {
    "_cell_guid": "b1076dfc-b9ad-4769-8c92-a6c4dae69d19",
    "_uuid": "8f2839f25d086af736a60e9eeb907d3b93b6e0e5",
    "execution": {
     "iopub.execute_input": "2024-03-19T23:59:43.812469Z",
     "iopub.status.busy": "2024-03-19T23:59:43.811731Z",
     "iopub.status.idle": "2024-03-19T23:59:44.821941Z",
     "shell.execute_reply": "2024-03-19T23:59:44.820694Z"
    },
    "papermill": {
     "duration": 1.02374,
     "end_time": "2024-03-19T23:59:44.825287",
     "exception": false,
     "start_time": "2024-03-19T23:59:43.801547",
     "status": "completed"
    },
    "tags": []
   },
   "outputs": [],
   "source": [
    "import numpy as np\n",
    "import pandas as pd"
   ]
  },
  {
   "cell_type": "code",
   "execution_count": 2,
   "id": "2864ac46",
   "metadata": {
    "execution": {
     "iopub.execute_input": "2024-03-19T23:59:44.843696Z",
     "iopub.status.busy": "2024-03-19T23:59:44.842788Z",
     "iopub.status.idle": "2024-03-19T23:59:44.847557Z",
     "shell.execute_reply": "2024-03-19T23:59:44.846586Z"
    },
    "papermill": {
     "duration": 0.015974,
     "end_time": "2024-03-19T23:59:44.850021",
     "exception": false,
     "start_time": "2024-03-19T23:59:44.834047",
     "status": "completed"
    },
    "tags": []
   },
   "outputs": [],
   "source": [
    "# Weight of the Backpack is 15\n",
    "# We have 5 items\n",
    "# Hammer : Val = 11, Weight = 3\n",
    "# Screw : Val = 4, Weight = 2\n",
    "# Towel : Val = 8, Weight = 5\n",
    "# Wrench : Val = 3, Weight = 7\n",
    "# Screwdriver : Val = 6, Weight = 4\n",
    "# First we will do a 0/1 Knapsack"
   ]
  },
  {
   "cell_type": "code",
   "execution_count": 3,
   "id": "f0e25d30",
   "metadata": {
    "execution": {
     "iopub.execute_input": "2024-03-19T23:59:44.862921Z",
     "iopub.status.busy": "2024-03-19T23:59:44.862115Z",
     "iopub.status.idle": "2024-03-19T23:59:44.872713Z",
     "shell.execute_reply": "2024-03-19T23:59:44.871480Z"
    },
    "papermill": {
     "duration": 0.019867,
     "end_time": "2024-03-19T23:59:44.875070",
     "exception": false,
     "start_time": "2024-03-19T23:59:44.855203",
     "status": "completed"
    },
    "tags": []
   },
   "outputs": [
    {
     "name": "stdout",
     "output_type": "stream",
     "text": [
      "['00000', '00001', '00010', '00011', '00100', '00101', '00110', '00111', '01000', '01001', '01010', '01011', '01100', '01101', '01110', '01111', '10000', '10001', '10010', '10011', '10100', '10101', '10110', '10111', '11000', '11001', '11010', '11011', '11100', '11101', '11110', '11111']\n"
     ]
    }
   ],
   "source": [
    "def gen_cases(size):\n",
    "    cases = []\n",
    "    for i in range(size):\n",
    "        binary_string = bin(i)\n",
    "        binary_string_without_prefix = binary_string[2:]\n",
    "        cases.append(binary_string_without_prefix)\n",
    "    for pos in range(len(cases)):\n",
    "        length = len(cases[-1]) - len(cases[pos])\n",
    "        if length !=0:\n",
    "            for i in range(length):\n",
    "                cases[pos] = \"0\"+cases[pos]\n",
    "        else:\n",
    "            break\n",
    "    return cases\n",
    "cases = gen_cases(32)\n",
    "print(cases)"
   ]
  },
  {
   "cell_type": "code",
   "execution_count": 4,
   "id": "458e8116",
   "metadata": {
    "execution": {
     "iopub.execute_input": "2024-03-19T23:59:44.888638Z",
     "iopub.status.busy": "2024-03-19T23:59:44.888128Z",
     "iopub.status.idle": "2024-03-19T23:59:44.911108Z",
     "shell.execute_reply": "2024-03-19T23:59:44.909956Z"
    },
    "papermill": {
     "duration": 0.033157,
     "end_time": "2024-03-19T23:59:44.913435",
     "exception": false,
     "start_time": "2024-03-19T23:59:44.880278",
     "status": "completed"
    },
    "tags": []
   },
   "outputs": [
    {
     "data": {
      "text/html": [
       "<div>\n",
       "<style scoped>\n",
       "    .dataframe tbody tr th:only-of-type {\n",
       "        vertical-align: middle;\n",
       "    }\n",
       "\n",
       "    .dataframe tbody tr th {\n",
       "        vertical-align: top;\n",
       "    }\n",
       "\n",
       "    .dataframe thead th {\n",
       "        text-align: right;\n",
       "    }\n",
       "</style>\n",
       "<table border=\"1\" class=\"dataframe\">\n",
       "  <thead>\n",
       "    <tr style=\"text-align: right;\">\n",
       "      <th></th>\n",
       "      <th>Hammer</th>\n",
       "      <th>Screw</th>\n",
       "      <th>Towel</th>\n",
       "      <th>Wrench</th>\n",
       "      <th>Screwdriver</th>\n",
       "    </tr>\n",
       "  </thead>\n",
       "  <tbody>\n",
       "    <tr>\n",
       "      <th>Value</th>\n",
       "      <td>11</td>\n",
       "      <td>4</td>\n",
       "      <td>8</td>\n",
       "      <td>3</td>\n",
       "      <td>6</td>\n",
       "    </tr>\n",
       "    <tr>\n",
       "      <th>Weight</th>\n",
       "      <td>3</td>\n",
       "      <td>2</td>\n",
       "      <td>5</td>\n",
       "      <td>7</td>\n",
       "      <td>4</td>\n",
       "    </tr>\n",
       "  </tbody>\n",
       "</table>\n",
       "</div>"
      ],
      "text/plain": [
       "        Hammer  Screw  Towel  Wrench  Screwdriver\n",
       "Value       11      4      8       3            6\n",
       "Weight       3      2      5       7            4"
      ]
     },
     "execution_count": 4,
     "metadata": {},
     "output_type": "execute_result"
    }
   ],
   "source": [
    "items = {\"Hammer\":[11,3], \"Screw\":[4,2],\"Towel\":[8,5],\"Wrench\":[3,7],\"Screwdriver\":[6,4]}\n",
    "df = pd.DataFrame(items, index=[\"Value\",\"Weight\"])\n",
    "df"
   ]
  },
  {
   "cell_type": "code",
   "execution_count": 5,
   "id": "2b5a8670",
   "metadata": {
    "execution": {
     "iopub.execute_input": "2024-03-19T23:59:44.925745Z",
     "iopub.status.busy": "2024-03-19T23:59:44.925349Z",
     "iopub.status.idle": "2024-03-19T23:59:44.936247Z",
     "shell.execute_reply": "2024-03-19T23:59:44.935128Z"
    },
    "papermill": {
     "duration": 0.0196,
     "end_time": "2024-03-19T23:59:44.938485",
     "exception": false,
     "start_time": "2024-03-19T23:59:44.918885",
     "status": "completed"
    },
    "tags": []
   },
   "outputs": [
    {
     "data": {
      "text/html": [
       "<div>\n",
       "<style scoped>\n",
       "    .dataframe tbody tr th:only-of-type {\n",
       "        vertical-align: middle;\n",
       "    }\n",
       "\n",
       "    .dataframe tbody tr th {\n",
       "        vertical-align: top;\n",
       "    }\n",
       "\n",
       "    .dataframe thead th {\n",
       "        text-align: right;\n",
       "    }\n",
       "</style>\n",
       "<table border=\"1\" class=\"dataframe\">\n",
       "  <thead>\n",
       "    <tr style=\"text-align: right;\">\n",
       "      <th></th>\n",
       "      <th>Hammer</th>\n",
       "      <th>Screw</th>\n",
       "      <th>Towel</th>\n",
       "      <th>Wrench</th>\n",
       "      <th>Screwdriver</th>\n",
       "    </tr>\n",
       "  </thead>\n",
       "  <tbody>\n",
       "    <tr>\n",
       "      <th>Value</th>\n",
       "      <td>11</td>\n",
       "      <td>4</td>\n",
       "      <td>8</td>\n",
       "      <td>3</td>\n",
       "      <td>6</td>\n",
       "    </tr>\n",
       "    <tr>\n",
       "      <th>Weight</th>\n",
       "      <td>3</td>\n",
       "      <td>2</td>\n",
       "      <td>5</td>\n",
       "      <td>7</td>\n",
       "      <td>4</td>\n",
       "    </tr>\n",
       "  </tbody>\n",
       "</table>\n",
       "</div>"
      ],
      "text/plain": [
       "        Hammer  Screw  Towel  Wrench  Screwdriver\n",
       "Value       11      4      8       3            6\n",
       "Weight       3      2      5       7            4"
      ]
     },
     "execution_count": 5,
     "metadata": {},
     "output_type": "execute_result"
    }
   ],
   "source": [
    "df_01 = df.copy()\n",
    "df_01"
   ]
  },
  {
   "cell_type": "code",
   "execution_count": 6,
   "id": "a4fc5dc4",
   "metadata": {
    "execution": {
     "iopub.execute_input": "2024-03-19T23:59:44.952555Z",
     "iopub.status.busy": "2024-03-19T23:59:44.951562Z",
     "iopub.status.idle": "2024-03-19T23:59:44.987442Z",
     "shell.execute_reply": "2024-03-19T23:59:44.986191Z"
    },
    "papermill": {
     "duration": 0.046373,
     "end_time": "2024-03-19T23:59:44.990532",
     "exception": false,
     "start_time": "2024-03-19T23:59:44.944159",
     "status": "completed"
    },
    "tags": []
   },
   "outputs": [],
   "source": [
    "cpt = 1\n",
    "for poss in cases:\n",
    "    f = []\n",
    "    for n in poss:\n",
    "        f.append(int(n))\n",
    "        s = str(cpt)\n",
    "    df_01.loc[\"pos\"+s]=f\n",
    "    cpt +=1"
   ]
  },
  {
   "cell_type": "code",
   "execution_count": 7,
   "id": "96658934",
   "metadata": {
    "execution": {
     "iopub.execute_input": "2024-03-19T23:59:45.003896Z",
     "iopub.status.busy": "2024-03-19T23:59:45.003472Z",
     "iopub.status.idle": "2024-03-19T23:59:45.010582Z",
     "shell.execute_reply": "2024-03-19T23:59:45.009453Z"
    },
    "papermill": {
     "duration": 0.016121,
     "end_time": "2024-03-19T23:59:45.012834",
     "exception": false,
     "start_time": "2024-03-19T23:59:44.996713",
     "status": "completed"
    },
    "tags": []
   },
   "outputs": [
    {
     "data": {
      "text/plain": [
       "34"
      ]
     },
     "execution_count": 7,
     "metadata": {},
     "output_type": "execute_result"
    }
   ],
   "source": [
    "len(df_01)"
   ]
  },
  {
   "cell_type": "code",
   "execution_count": 8,
   "id": "2cb3ba03",
   "metadata": {
    "execution": {
     "iopub.execute_input": "2024-03-19T23:59:45.026687Z",
     "iopub.status.busy": "2024-03-19T23:59:45.025962Z",
     "iopub.status.idle": "2024-03-19T23:59:45.047884Z",
     "shell.execute_reply": "2024-03-19T23:59:45.046649Z"
    },
    "papermill": {
     "duration": 0.032205,
     "end_time": "2024-03-19T23:59:45.050703",
     "exception": false,
     "start_time": "2024-03-19T23:59:45.018498",
     "status": "completed"
    },
    "tags": []
   },
   "outputs": [],
   "source": [
    "sums = [df_01.loc['Value'].sum(),df_01.loc['Weight'].sum()]\n",
    "weights = [df_01.loc['Value'].sum(),df_01.loc['Weight'].sum()]\n",
    "for i in range(1,len(df_01)-1):\n",
    "    s = 0\n",
    "    w = 0\n",
    "    for col in df_01.columns:\n",
    "        s += df_01.loc['pos'+str(i),col] * df_01.loc['Value',col]\n",
    "        w += df_01.loc['pos'+str(i),col] * df_01.loc['Weight',col]\n",
    "    sums.append(s)\n",
    "    weights.append(w)\n",
    "df_01['Total Values'] = sums\n",
    "df_01['Total Weights'] = weights"
   ]
  },
  {
   "cell_type": "code",
   "execution_count": 9,
   "id": "d4983560",
   "metadata": {
    "execution": {
     "iopub.execute_input": "2024-03-19T23:59:45.064570Z",
     "iopub.status.busy": "2024-03-19T23:59:45.063612Z",
     "iopub.status.idle": "2024-03-19T23:59:45.084120Z",
     "shell.execute_reply": "2024-03-19T23:59:45.082990Z"
    },
    "papermill": {
     "duration": 0.030264,
     "end_time": "2024-03-19T23:59:45.086520",
     "exception": false,
     "start_time": "2024-03-19T23:59:45.056256",
     "status": "completed"
    },
    "tags": []
   },
   "outputs": [
    {
     "data": {
      "text/html": [
       "<div>\n",
       "<style scoped>\n",
       "    .dataframe tbody tr th:only-of-type {\n",
       "        vertical-align: middle;\n",
       "    }\n",
       "\n",
       "    .dataframe tbody tr th {\n",
       "        vertical-align: top;\n",
       "    }\n",
       "\n",
       "    .dataframe thead th {\n",
       "        text-align: right;\n",
       "    }\n",
       "</style>\n",
       "<table border=\"1\" class=\"dataframe\">\n",
       "  <thead>\n",
       "    <tr style=\"text-align: right;\">\n",
       "      <th></th>\n",
       "      <th>Hammer</th>\n",
       "      <th>Screw</th>\n",
       "      <th>Towel</th>\n",
       "      <th>Wrench</th>\n",
       "      <th>Screwdriver</th>\n",
       "      <th>Total Values</th>\n",
       "      <th>Total Weights</th>\n",
       "    </tr>\n",
       "  </thead>\n",
       "  <tbody>\n",
       "    <tr>\n",
       "      <th>pos30</th>\n",
       "      <td>1</td>\n",
       "      <td>1</td>\n",
       "      <td>1</td>\n",
       "      <td>0</td>\n",
       "      <td>1</td>\n",
       "      <td>29</td>\n",
       "      <td>14</td>\n",
       "    </tr>\n",
       "    <tr>\n",
       "      <th>pos22</th>\n",
       "      <td>1</td>\n",
       "      <td>0</td>\n",
       "      <td>1</td>\n",
       "      <td>0</td>\n",
       "      <td>1</td>\n",
       "      <td>25</td>\n",
       "      <td>12</td>\n",
       "    </tr>\n",
       "    <tr>\n",
       "      <th>pos29</th>\n",
       "      <td>1</td>\n",
       "      <td>1</td>\n",
       "      <td>1</td>\n",
       "      <td>0</td>\n",
       "      <td>0</td>\n",
       "      <td>23</td>\n",
       "      <td>10</td>\n",
       "    </tr>\n",
       "    <tr>\n",
       "      <th>pos23</th>\n",
       "      <td>1</td>\n",
       "      <td>0</td>\n",
       "      <td>1</td>\n",
       "      <td>1</td>\n",
       "      <td>0</td>\n",
       "      <td>22</td>\n",
       "      <td>15</td>\n",
       "    </tr>\n",
       "    <tr>\n",
       "      <th>pos26</th>\n",
       "      <td>1</td>\n",
       "      <td>1</td>\n",
       "      <td>0</td>\n",
       "      <td>0</td>\n",
       "      <td>1</td>\n",
       "      <td>21</td>\n",
       "      <td>9</td>\n",
       "    </tr>\n",
       "  </tbody>\n",
       "</table>\n",
       "</div>"
      ],
      "text/plain": [
       "       Hammer  Screw  Towel  Wrench  Screwdriver  Total Values  Total Weights\n",
       "pos30       1      1      1       0            1            29             14\n",
       "pos22       1      0      1       0            1            25             12\n",
       "pos29       1      1      1       0            0            23             10\n",
       "pos23       1      0      1       1            0            22             15\n",
       "pos26       1      1      0       0            1            21              9"
      ]
     },
     "execution_count": 9,
     "metadata": {},
     "output_type": "execute_result"
    }
   ],
   "source": [
    "dfs_01 = df_01[df_01[\"Total Weights\"]<= 15]\n",
    "dfs_01.sort_values(by=\"Total Values\",ascending=False).head()"
   ]
  },
  {
   "cell_type": "code",
   "execution_count": 10,
   "id": "31cd17cf",
   "metadata": {
    "execution": {
     "iopub.execute_input": "2024-03-19T23:59:45.099626Z",
     "iopub.status.busy": "2024-03-19T23:59:45.099252Z",
     "iopub.status.idle": "2024-03-19T23:59:45.106001Z",
     "shell.execute_reply": "2024-03-19T23:59:45.104892Z"
    },
    "papermill": {
     "duration": 0.016049,
     "end_time": "2024-03-19T23:59:45.108341",
     "exception": false,
     "start_time": "2024-03-19T23:59:45.092292",
     "status": "completed"
    },
    "tags": []
   },
   "outputs": [
    {
     "data": {
      "text/plain": [
       "'Therefor our optimal solution would be\\n1 Hamer, 1 Screw, 1 Towel and 1 Screwdriver'"
      ]
     },
     "execution_count": 10,
     "metadata": {},
     "output_type": "execute_result"
    }
   ],
   "source": [
    "\"\"\"Therefor our optimal solution would be\n",
    "1 Hamer, 1 Screw, 1 Towel and 1 Screwdriver\"\"\""
   ]
  },
  {
   "cell_type": "code",
   "execution_count": 11,
   "id": "e9a78d7e",
   "metadata": {
    "execution": {
     "iopub.execute_input": "2024-03-19T23:59:45.122133Z",
     "iopub.status.busy": "2024-03-19T23:59:45.121769Z",
     "iopub.status.idle": "2024-03-19T23:59:45.126481Z",
     "shell.execute_reply": "2024-03-19T23:59:45.125299Z"
    },
    "papermill": {
     "duration": 0.014844,
     "end_time": "2024-03-19T23:59:45.129094",
     "exception": false,
     "start_time": "2024-03-19T23:59:45.114250",
     "status": "completed"
    },
    "tags": []
   },
   "outputs": [],
   "source": [
    "# Now we will do an unbound Knapsack"
   ]
  },
  {
   "cell_type": "code",
   "execution_count": 12,
   "id": "8d9339c5",
   "metadata": {
    "execution": {
     "iopub.execute_input": "2024-03-19T23:59:45.142333Z",
     "iopub.status.busy": "2024-03-19T23:59:45.141969Z",
     "iopub.status.idle": "2024-03-19T23:59:45.146594Z",
     "shell.execute_reply": "2024-03-19T23:59:45.145337Z"
    },
    "papermill": {
     "duration": 0.013784,
     "end_time": "2024-03-19T23:59:45.148775",
     "exception": false,
     "start_time": "2024-03-19T23:59:45.134991",
     "status": "completed"
    },
    "tags": []
   },
   "outputs": [],
   "source": [
    "from itertools import product"
   ]
  },
  {
   "cell_type": "code",
   "execution_count": 13,
   "id": "68174ca4",
   "metadata": {
    "execution": {
     "iopub.execute_input": "2024-03-19T23:59:45.162889Z",
     "iopub.status.busy": "2024-03-19T23:59:45.162519Z",
     "iopub.status.idle": "2024-03-19T23:59:45.172106Z",
     "shell.execute_reply": "2024-03-19T23:59:45.171090Z"
    },
    "papermill": {
     "duration": 0.018911,
     "end_time": "2024-03-19T23:59:45.174383",
     "exception": false,
     "start_time": "2024-03-19T23:59:45.155472",
     "status": "completed"
    },
    "tags": []
   },
   "outputs": [
    {
     "data": {
      "text/html": [
       "<div>\n",
       "<style scoped>\n",
       "    .dataframe tbody tr th:only-of-type {\n",
       "        vertical-align: middle;\n",
       "    }\n",
       "\n",
       "    .dataframe tbody tr th {\n",
       "        vertical-align: top;\n",
       "    }\n",
       "\n",
       "    .dataframe thead th {\n",
       "        text-align: right;\n",
       "    }\n",
       "</style>\n",
       "<table border=\"1\" class=\"dataframe\">\n",
       "  <thead>\n",
       "    <tr style=\"text-align: right;\">\n",
       "      <th></th>\n",
       "      <th>Hammer</th>\n",
       "      <th>Screw</th>\n",
       "      <th>Towel</th>\n",
       "      <th>Wrench</th>\n",
       "      <th>Screwdriver</th>\n",
       "    </tr>\n",
       "  </thead>\n",
       "  <tbody>\n",
       "    <tr>\n",
       "      <th>Value</th>\n",
       "      <td>11</td>\n",
       "      <td>4</td>\n",
       "      <td>8</td>\n",
       "      <td>3</td>\n",
       "      <td>6</td>\n",
       "    </tr>\n",
       "    <tr>\n",
       "      <th>Weight</th>\n",
       "      <td>3</td>\n",
       "      <td>2</td>\n",
       "      <td>5</td>\n",
       "      <td>7</td>\n",
       "      <td>4</td>\n",
       "    </tr>\n",
       "  </tbody>\n",
       "</table>\n",
       "</div>"
      ],
      "text/plain": [
       "        Hammer  Screw  Towel  Wrench  Screwdriver\n",
       "Value       11      4      8       3            6\n",
       "Weight       3      2      5       7            4"
      ]
     },
     "execution_count": 13,
     "metadata": {},
     "output_type": "execute_result"
    }
   ],
   "source": [
    "df"
   ]
  },
  {
   "cell_type": "code",
   "execution_count": 14,
   "id": "93db858c",
   "metadata": {
    "execution": {
     "iopub.execute_input": "2024-03-19T23:59:45.190147Z",
     "iopub.status.busy": "2024-03-19T23:59:45.189286Z",
     "iopub.status.idle": "2024-03-19T23:59:45.196298Z",
     "shell.execute_reply": "2024-03-19T23:59:45.195229Z"
    },
    "papermill": {
     "duration": 0.017724,
     "end_time": "2024-03-19T23:59:45.199244",
     "exception": false,
     "start_time": "2024-03-19T23:59:45.181520",
     "status": "completed"
    },
    "tags": []
   },
   "outputs": [
    {
     "name": "stdout",
     "output_type": "stream",
     "text": [
      "[[0, 1, 2, 3, 4, 5], [0, 1, 2, 3, 4, 5, 6, 7], [0, 1, 2, 3], [0, 1, 2], [0, 1, 2, 3]]\n"
     ]
    }
   ],
   "source": [
    "st = []\n",
    "for i in df.columns:\n",
    "    mod = 15 / df.loc[\"Weight\", i]\n",
    "    r = range(int(mod)+1)\n",
    "    st.append(list(r))\n",
    "print(st)"
   ]
  },
  {
   "cell_type": "code",
   "execution_count": 15,
   "id": "79594da7",
   "metadata": {
    "execution": {
     "iopub.execute_input": "2024-03-19T23:59:45.213396Z",
     "iopub.status.busy": "2024-03-19T23:59:45.213017Z",
     "iopub.status.idle": "2024-03-19T23:59:46.029167Z",
     "shell.execute_reply": "2024-03-19T23:59:46.027519Z"
    },
    "papermill": {
     "duration": 0.827252,
     "end_time": "2024-03-19T23:59:46.032864",
     "exception": false,
     "start_time": "2024-03-19T23:59:45.205612",
     "status": "completed"
    },
    "tags": []
   },
   "outputs": [],
   "source": [
    "from itertools import product\n",
    "\n",
    "st = []\n",
    "for i in df.columns:\n",
    "    mod = 15 / df.loc[\"Weight\", i]\n",
    "    r = range(int(mod)+1)\n",
    "    st.append(list(r))\n",
    "\n",
    "# Generate combinations with specific order\n",
    "combinations = product(*st)\n",
    "\n",
    "# Filter combinations based on rules\n",
    "filtered_combinations = []\n",
    "for combo in combinations:\n",
    "    valid = True\n",
    "    for i, val in enumerate(combo):\n",
    "        if sum(val * df.loc[\"Weight\", df.columns[i]] for i, val in enumerate(combo)) >= 1000:\n",
    "            valid = False\n",
    "            break\n",
    "    if valid:\n",
    "        filtered_combinations.append(combo)"
   ]
  },
  {
   "cell_type": "code",
   "execution_count": 16,
   "id": "eed9a062",
   "metadata": {
    "execution": {
     "iopub.execute_input": "2024-03-19T23:59:46.047867Z",
     "iopub.status.busy": "2024-03-19T23:59:46.047443Z",
     "iopub.status.idle": "2024-03-19T23:59:46.058459Z",
     "shell.execute_reply": "2024-03-19T23:59:46.057050Z"
    },
    "papermill": {
     "duration": 0.021393,
     "end_time": "2024-03-19T23:59:46.061125",
     "exception": false,
     "start_time": "2024-03-19T23:59:46.039732",
     "status": "completed"
    },
    "tags": []
   },
   "outputs": [
    {
     "data": {
      "text/html": [
       "<div>\n",
       "<style scoped>\n",
       "    .dataframe tbody tr th:only-of-type {\n",
       "        vertical-align: middle;\n",
       "    }\n",
       "\n",
       "    .dataframe tbody tr th {\n",
       "        vertical-align: top;\n",
       "    }\n",
       "\n",
       "    .dataframe thead th {\n",
       "        text-align: right;\n",
       "    }\n",
       "</style>\n",
       "<table border=\"1\" class=\"dataframe\">\n",
       "  <thead>\n",
       "    <tr style=\"text-align: right;\">\n",
       "      <th></th>\n",
       "      <th>Hammer</th>\n",
       "      <th>Screw</th>\n",
       "      <th>Towel</th>\n",
       "      <th>Wrench</th>\n",
       "      <th>Screwdriver</th>\n",
       "    </tr>\n",
       "  </thead>\n",
       "  <tbody>\n",
       "    <tr>\n",
       "      <th>Value</th>\n",
       "      <td>11</td>\n",
       "      <td>4</td>\n",
       "      <td>8</td>\n",
       "      <td>3</td>\n",
       "      <td>6</td>\n",
       "    </tr>\n",
       "    <tr>\n",
       "      <th>Weight</th>\n",
       "      <td>3</td>\n",
       "      <td>2</td>\n",
       "      <td>5</td>\n",
       "      <td>7</td>\n",
       "      <td>4</td>\n",
       "    </tr>\n",
       "  </tbody>\n",
       "</table>\n",
       "</div>"
      ],
      "text/plain": [
       "        Hammer  Screw  Towel  Wrench  Screwdriver\n",
       "Value       11      4      8       3            6\n",
       "Weight       3      2      5       7            4"
      ]
     },
     "execution_count": 16,
     "metadata": {},
     "output_type": "execute_result"
    }
   ],
   "source": [
    "df_unb = df.copy()\n",
    "df_unb"
   ]
  },
  {
   "cell_type": "code",
   "execution_count": 17,
   "id": "7cd6f95a",
   "metadata": {
    "execution": {
     "iopub.execute_input": "2024-03-19T23:59:46.075825Z",
     "iopub.status.busy": "2024-03-19T23:59:46.075401Z",
     "iopub.status.idle": "2024-03-19T23:59:48.269343Z",
     "shell.execute_reply": "2024-03-19T23:59:48.268210Z"
    },
    "papermill": {
     "duration": 2.204311,
     "end_time": "2024-03-19T23:59:48.271736",
     "exception": false,
     "start_time": "2024-03-19T23:59:46.067425",
     "status": "completed"
    },
    "tags": []
   },
   "outputs": [
    {
     "data": {
      "text/html": [
       "<div>\n",
       "<style scoped>\n",
       "    .dataframe tbody tr th:only-of-type {\n",
       "        vertical-align: middle;\n",
       "    }\n",
       "\n",
       "    .dataframe tbody tr th {\n",
       "        vertical-align: top;\n",
       "    }\n",
       "\n",
       "    .dataframe thead th {\n",
       "        text-align: right;\n",
       "    }\n",
       "</style>\n",
       "<table border=\"1\" class=\"dataframe\">\n",
       "  <thead>\n",
       "    <tr style=\"text-align: right;\">\n",
       "      <th></th>\n",
       "      <th>Hammer</th>\n",
       "      <th>Screw</th>\n",
       "      <th>Towel</th>\n",
       "      <th>Wrench</th>\n",
       "      <th>Screwdriver</th>\n",
       "    </tr>\n",
       "  </thead>\n",
       "  <tbody>\n",
       "    <tr>\n",
       "      <th>Value</th>\n",
       "      <td>11</td>\n",
       "      <td>4</td>\n",
       "      <td>8</td>\n",
       "      <td>3</td>\n",
       "      <td>6</td>\n",
       "    </tr>\n",
       "    <tr>\n",
       "      <th>Weight</th>\n",
       "      <td>3</td>\n",
       "      <td>2</td>\n",
       "      <td>5</td>\n",
       "      <td>7</td>\n",
       "      <td>4</td>\n",
       "    </tr>\n",
       "    <tr>\n",
       "      <th>pos1</th>\n",
       "      <td>0</td>\n",
       "      <td>0</td>\n",
       "      <td>0</td>\n",
       "      <td>0</td>\n",
       "      <td>0</td>\n",
       "    </tr>\n",
       "    <tr>\n",
       "      <th>pos2</th>\n",
       "      <td>0</td>\n",
       "      <td>0</td>\n",
       "      <td>0</td>\n",
       "      <td>0</td>\n",
       "      <td>1</td>\n",
       "    </tr>\n",
       "    <tr>\n",
       "      <th>pos3</th>\n",
       "      <td>0</td>\n",
       "      <td>0</td>\n",
       "      <td>0</td>\n",
       "      <td>0</td>\n",
       "      <td>2</td>\n",
       "    </tr>\n",
       "    <tr>\n",
       "      <th>...</th>\n",
       "      <td>...</td>\n",
       "      <td>...</td>\n",
       "      <td>...</td>\n",
       "      <td>...</td>\n",
       "      <td>...</td>\n",
       "    </tr>\n",
       "    <tr>\n",
       "      <th>pos2300</th>\n",
       "      <td>5</td>\n",
       "      <td>7</td>\n",
       "      <td>3</td>\n",
       "      <td>1</td>\n",
       "      <td>3</td>\n",
       "    </tr>\n",
       "    <tr>\n",
       "      <th>pos2301</th>\n",
       "      <td>5</td>\n",
       "      <td>7</td>\n",
       "      <td>3</td>\n",
       "      <td>2</td>\n",
       "      <td>0</td>\n",
       "    </tr>\n",
       "    <tr>\n",
       "      <th>pos2302</th>\n",
       "      <td>5</td>\n",
       "      <td>7</td>\n",
       "      <td>3</td>\n",
       "      <td>2</td>\n",
       "      <td>1</td>\n",
       "    </tr>\n",
       "    <tr>\n",
       "      <th>pos2303</th>\n",
       "      <td>5</td>\n",
       "      <td>7</td>\n",
       "      <td>3</td>\n",
       "      <td>2</td>\n",
       "      <td>2</td>\n",
       "    </tr>\n",
       "    <tr>\n",
       "      <th>pos2304</th>\n",
       "      <td>5</td>\n",
       "      <td>7</td>\n",
       "      <td>3</td>\n",
       "      <td>2</td>\n",
       "      <td>3</td>\n",
       "    </tr>\n",
       "  </tbody>\n",
       "</table>\n",
       "<p>2306 rows × 5 columns</p>\n",
       "</div>"
      ],
      "text/plain": [
       "         Hammer  Screw  Towel  Wrench  Screwdriver\n",
       "Value        11      4      8       3            6\n",
       "Weight        3      2      5       7            4\n",
       "pos1          0      0      0       0            0\n",
       "pos2          0      0      0       0            1\n",
       "pos3          0      0      0       0            2\n",
       "...         ...    ...    ...     ...          ...\n",
       "pos2300       5      7      3       1            3\n",
       "pos2301       5      7      3       2            0\n",
       "pos2302       5      7      3       2            1\n",
       "pos2303       5      7      3       2            2\n",
       "pos2304       5      7      3       2            3\n",
       "\n",
       "[2306 rows x 5 columns]"
      ]
     },
     "execution_count": 17,
     "metadata": {},
     "output_type": "execute_result"
    }
   ],
   "source": [
    "cpt = 1\n",
    "for comb in filtered_combinations:\n",
    "    df_unb.loc[\"pos\"+str(cpt)] = comb\n",
    "    cpt += 1\n",
    "df_unb"
   ]
  },
  {
   "cell_type": "code",
   "execution_count": 18,
   "id": "08efe5c2",
   "metadata": {
    "execution": {
     "iopub.execute_input": "2024-03-19T23:59:48.286718Z",
     "iopub.status.busy": "2024-03-19T23:59:48.286291Z",
     "iopub.status.idle": "2024-03-19T23:59:48.905898Z",
     "shell.execute_reply": "2024-03-19T23:59:48.904640Z"
    },
    "papermill": {
     "duration": 0.630228,
     "end_time": "2024-03-19T23:59:48.908468",
     "exception": false,
     "start_time": "2024-03-19T23:59:48.278240",
     "status": "completed"
    },
    "tags": []
   },
   "outputs": [
    {
     "data": {
      "text/html": [
       "<div>\n",
       "<style scoped>\n",
       "    .dataframe tbody tr th:only-of-type {\n",
       "        vertical-align: middle;\n",
       "    }\n",
       "\n",
       "    .dataframe tbody tr th {\n",
       "        vertical-align: top;\n",
       "    }\n",
       "\n",
       "    .dataframe thead th {\n",
       "        text-align: right;\n",
       "    }\n",
       "</style>\n",
       "<table border=\"1\" class=\"dataframe\">\n",
       "  <thead>\n",
       "    <tr style=\"text-align: right;\">\n",
       "      <th></th>\n",
       "      <th>Hammer</th>\n",
       "      <th>Screw</th>\n",
       "      <th>Towel</th>\n",
       "      <th>Wrench</th>\n",
       "      <th>Screwdriver</th>\n",
       "      <th>Total Values</th>\n",
       "      <th>Total Weights</th>\n",
       "    </tr>\n",
       "  </thead>\n",
       "  <tbody>\n",
       "    <tr>\n",
       "      <th>Value</th>\n",
       "      <td>11</td>\n",
       "      <td>4</td>\n",
       "      <td>8</td>\n",
       "      <td>3</td>\n",
       "      <td>6</td>\n",
       "      <td>32</td>\n",
       "      <td>32</td>\n",
       "    </tr>\n",
       "    <tr>\n",
       "      <th>Weight</th>\n",
       "      <td>3</td>\n",
       "      <td>2</td>\n",
       "      <td>5</td>\n",
       "      <td>7</td>\n",
       "      <td>4</td>\n",
       "      <td>21</td>\n",
       "      <td>21</td>\n",
       "    </tr>\n",
       "    <tr>\n",
       "      <th>pos1</th>\n",
       "      <td>0</td>\n",
       "      <td>0</td>\n",
       "      <td>0</td>\n",
       "      <td>0</td>\n",
       "      <td>0</td>\n",
       "      <td>0</td>\n",
       "      <td>0</td>\n",
       "    </tr>\n",
       "    <tr>\n",
       "      <th>pos2</th>\n",
       "      <td>0</td>\n",
       "      <td>0</td>\n",
       "      <td>0</td>\n",
       "      <td>0</td>\n",
       "      <td>1</td>\n",
       "      <td>6</td>\n",
       "      <td>4</td>\n",
       "    </tr>\n",
       "    <tr>\n",
       "      <th>pos3</th>\n",
       "      <td>0</td>\n",
       "      <td>0</td>\n",
       "      <td>0</td>\n",
       "      <td>0</td>\n",
       "      <td>2</td>\n",
       "      <td>12</td>\n",
       "      <td>8</td>\n",
       "    </tr>\n",
       "    <tr>\n",
       "      <th>...</th>\n",
       "      <td>...</td>\n",
       "      <td>...</td>\n",
       "      <td>...</td>\n",
       "      <td>...</td>\n",
       "      <td>...</td>\n",
       "      <td>...</td>\n",
       "      <td>...</td>\n",
       "    </tr>\n",
       "    <tr>\n",
       "      <th>pos2300</th>\n",
       "      <td>5</td>\n",
       "      <td>7</td>\n",
       "      <td>3</td>\n",
       "      <td>1</td>\n",
       "      <td>3</td>\n",
       "      <td>128</td>\n",
       "      <td>63</td>\n",
       "    </tr>\n",
       "    <tr>\n",
       "      <th>pos2301</th>\n",
       "      <td>5</td>\n",
       "      <td>7</td>\n",
       "      <td>3</td>\n",
       "      <td>2</td>\n",
       "      <td>0</td>\n",
       "      <td>113</td>\n",
       "      <td>58</td>\n",
       "    </tr>\n",
       "    <tr>\n",
       "      <th>pos2302</th>\n",
       "      <td>5</td>\n",
       "      <td>7</td>\n",
       "      <td>3</td>\n",
       "      <td>2</td>\n",
       "      <td>1</td>\n",
       "      <td>119</td>\n",
       "      <td>62</td>\n",
       "    </tr>\n",
       "    <tr>\n",
       "      <th>pos2303</th>\n",
       "      <td>5</td>\n",
       "      <td>7</td>\n",
       "      <td>3</td>\n",
       "      <td>2</td>\n",
       "      <td>2</td>\n",
       "      <td>125</td>\n",
       "      <td>66</td>\n",
       "    </tr>\n",
       "    <tr>\n",
       "      <th>pos2304</th>\n",
       "      <td>5</td>\n",
       "      <td>7</td>\n",
       "      <td>3</td>\n",
       "      <td>2</td>\n",
       "      <td>3</td>\n",
       "      <td>131</td>\n",
       "      <td>70</td>\n",
       "    </tr>\n",
       "  </tbody>\n",
       "</table>\n",
       "<p>2306 rows × 7 columns</p>\n",
       "</div>"
      ],
      "text/plain": [
       "         Hammer  Screw  Towel  Wrench  Screwdriver  Total Values  \\\n",
       "Value        11      4      8       3            6            32   \n",
       "Weight        3      2      5       7            4            21   \n",
       "pos1          0      0      0       0            0             0   \n",
       "pos2          0      0      0       0            1             6   \n",
       "pos3          0      0      0       0            2            12   \n",
       "...         ...    ...    ...     ...          ...           ...   \n",
       "pos2300       5      7      3       1            3           128   \n",
       "pos2301       5      7      3       2            0           113   \n",
       "pos2302       5      7      3       2            1           119   \n",
       "pos2303       5      7      3       2            2           125   \n",
       "pos2304       5      7      3       2            3           131   \n",
       "\n",
       "         Total Weights  \n",
       "Value               32  \n",
       "Weight              21  \n",
       "pos1                 0  \n",
       "pos2                 4  \n",
       "pos3                 8  \n",
       "...                ...  \n",
       "pos2300             63  \n",
       "pos2301             58  \n",
       "pos2302             62  \n",
       "pos2303             66  \n",
       "pos2304             70  \n",
       "\n",
       "[2306 rows x 7 columns]"
      ]
     },
     "execution_count": 18,
     "metadata": {},
     "output_type": "execute_result"
    }
   ],
   "source": [
    "sums = [df_unb.loc['Value'].sum(),df_unb.loc['Weight'].sum()]\n",
    "weights = [df_unb.loc['Value'].sum(),df_unb.loc['Weight'].sum()]\n",
    "for i in range(1,len(df_unb)-1):\n",
    "    s = 0\n",
    "    w = 0\n",
    "    for col in df_unb.columns:\n",
    "        s += df_unb.loc['pos'+str(i),col] * df_unb.loc['Value',col]\n",
    "        w += df_unb.loc['pos'+str(i),col] * df_unb.loc['Weight',col]\n",
    "    sums.append(s)\n",
    "    weights.append(w)\n",
    "df_unb['Total Values'] = sums\n",
    "df_unb['Total Weights'] = weights\n",
    "df_unb"
   ]
  },
  {
   "cell_type": "code",
   "execution_count": 19,
   "id": "cf2ff715",
   "metadata": {
    "execution": {
     "iopub.execute_input": "2024-03-19T23:59:48.924654Z",
     "iopub.status.busy": "2024-03-19T23:59:48.923841Z",
     "iopub.status.idle": "2024-03-19T23:59:48.935953Z",
     "shell.execute_reply": "2024-03-19T23:59:48.935116Z"
    },
    "papermill": {
     "duration": 0.022655,
     "end_time": "2024-03-19T23:59:48.938461",
     "exception": false,
     "start_time": "2024-03-19T23:59:48.915806",
     "status": "completed"
    },
    "tags": []
   },
   "outputs": [
    {
     "data": {
      "text/html": [
       "<div>\n",
       "<style scoped>\n",
       "    .dataframe tbody tr th:only-of-type {\n",
       "        vertical-align: middle;\n",
       "    }\n",
       "\n",
       "    .dataframe tbody tr th {\n",
       "        vertical-align: top;\n",
       "    }\n",
       "\n",
       "    .dataframe thead th {\n",
       "        text-align: right;\n",
       "    }\n",
       "</style>\n",
       "<table border=\"1\" class=\"dataframe\">\n",
       "  <thead>\n",
       "    <tr style=\"text-align: right;\">\n",
       "      <th></th>\n",
       "      <th>Hammer</th>\n",
       "      <th>Screw</th>\n",
       "      <th>Towel</th>\n",
       "      <th>Wrench</th>\n",
       "      <th>Screwdriver</th>\n",
       "      <th>Total Values</th>\n",
       "      <th>Total Weights</th>\n",
       "    </tr>\n",
       "  </thead>\n",
       "  <tbody>\n",
       "    <tr>\n",
       "      <th>pos1921</th>\n",
       "      <td>5</td>\n",
       "      <td>0</td>\n",
       "      <td>0</td>\n",
       "      <td>0</td>\n",
       "      <td>0</td>\n",
       "      <td>55</td>\n",
       "      <td>15</td>\n",
       "    </tr>\n",
       "    <tr>\n",
       "      <th>pos1585</th>\n",
       "      <td>4</td>\n",
       "      <td>1</td>\n",
       "      <td>0</td>\n",
       "      <td>0</td>\n",
       "      <td>0</td>\n",
       "      <td>48</td>\n",
       "      <td>14</td>\n",
       "    </tr>\n",
       "    <tr>\n",
       "      <th>pos1297</th>\n",
       "      <td>3</td>\n",
       "      <td>3</td>\n",
       "      <td>0</td>\n",
       "      <td>0</td>\n",
       "      <td>0</td>\n",
       "      <td>45</td>\n",
       "      <td>15</td>\n",
       "    </tr>\n",
       "    <tr>\n",
       "      <th>pos1537</th>\n",
       "      <td>4</td>\n",
       "      <td>0</td>\n",
       "      <td>0</td>\n",
       "      <td>0</td>\n",
       "      <td>0</td>\n",
       "      <td>44</td>\n",
       "      <td>12</td>\n",
       "    </tr>\n",
       "    <tr>\n",
       "      <th>pos1202</th>\n",
       "      <td>3</td>\n",
       "      <td>1</td>\n",
       "      <td>0</td>\n",
       "      <td>0</td>\n",
       "      <td>1</td>\n",
       "      <td>43</td>\n",
       "      <td>15</td>\n",
       "    </tr>\n",
       "  </tbody>\n",
       "</table>\n",
       "</div>"
      ],
      "text/plain": [
       "         Hammer  Screw  Towel  Wrench  Screwdriver  Total Values  \\\n",
       "pos1921       5      0      0       0            0            55   \n",
       "pos1585       4      1      0       0            0            48   \n",
       "pos1297       3      3      0       0            0            45   \n",
       "pos1537       4      0      0       0            0            44   \n",
       "pos1202       3      1      0       0            1            43   \n",
       "\n",
       "         Total Weights  \n",
       "pos1921             15  \n",
       "pos1585             14  \n",
       "pos1297             15  \n",
       "pos1537             12  \n",
       "pos1202             15  "
      ]
     },
     "execution_count": 19,
     "metadata": {},
     "output_type": "execute_result"
    }
   ],
   "source": [
    "dfs_unb = df_unb[df_unb[\"Total Weights\"]<= 15]\n",
    "dfs_unb.sort_values(by=\"Total Values\",ascending=False).head()"
   ]
  }
 ],
 "metadata": {
  "kaggle": {
   "accelerator": "none",
   "dataSources": [],
   "dockerImageVersionId": 30664,
   "isGpuEnabled": false,
   "isInternetEnabled": false,
   "language": "python",
   "sourceType": "notebook"
  },
  "kernelspec": {
   "display_name": "Python 3",
   "language": "python",
   "name": "python3"
  },
  "language_info": {
   "codemirror_mode": {
    "name": "ipython",
    "version": 3
   },
   "file_extension": ".py",
   "mimetype": "text/x-python",
   "name": "python",
   "nbconvert_exporter": "python",
   "pygments_lexer": "ipython3",
   "version": "3.10.13"
  },
  "papermill": {
   "default_parameters": {},
   "duration": 8.552374,
   "end_time": "2024-03-19T23:59:49.467137",
   "environment_variables": {},
   "exception": null,
   "input_path": "__notebook__.ipynb",
   "output_path": "__notebook__.ipynb",
   "parameters": {},
   "start_time": "2024-03-19T23:59:40.914763",
   "version": "2.5.0"
  }
 },
 "nbformat": 4,
 "nbformat_minor": 5
}
