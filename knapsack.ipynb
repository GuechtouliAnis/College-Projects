{
 "cells": [
  {
   "cell_type": "code",
   "execution_count": 1,
   "id": "ea2e11a6",
   "metadata": {
    "_cell_guid": "b1076dfc-b9ad-4769-8c92-a6c4dae69d19",
    "_uuid": "8f2839f25d086af736a60e9eeb907d3b93b6e0e5",
    "execution": {
     "iopub.execute_input": "2024-03-19T17:27:42.765013Z",
     "iopub.status.busy": "2024-03-19T17:27:42.764332Z",
     "iopub.status.idle": "2024-03-19T17:27:43.582879Z",
     "shell.execute_reply": "2024-03-19T17:27:43.582043Z"
    },
    "papermill": {
     "duration": 0.825673,
     "end_time": "2024-03-19T17:27:43.585231",
     "exception": false,
     "start_time": "2024-03-19T17:27:42.759558",
     "status": "completed"
    },
    "tags": []
   },
   "outputs": [],
   "source": [
    "import numpy as np\n",
    "import pandas as pd"
   ]
  },
  {
   "cell_type": "code",
   "execution_count": 2,
   "id": "7615cbce",
   "metadata": {
    "execution": {
     "iopub.execute_input": "2024-03-19T17:27:43.594896Z",
     "iopub.status.busy": "2024-03-19T17:27:43.593915Z",
     "iopub.status.idle": "2024-03-19T17:27:43.599045Z",
     "shell.execute_reply": "2024-03-19T17:27:43.598079Z"
    },
    "papermill": {
     "duration": 0.011942,
     "end_time": "2024-03-19T17:27:43.601236",
     "exception": false,
     "start_time": "2024-03-19T17:27:43.589294",
     "status": "completed"
    },
    "tags": []
   },
   "outputs": [],
   "source": [
    "# Weight of the Backpack is 15\n",
    "# We have 5 items\n",
    "# Hammer : Val = 11, Weight = 3\n",
    "# Screw : Val = 4, Weight = 2\n",
    "# Towel : Val = 8, Weight = 5\n",
    "# Wrench : Val = 3, Weight = 7\n",
    "# Screwdriver : Val = 6, Weight = 4"
   ]
  },
  {
   "cell_type": "code",
   "execution_count": 3,
   "id": "5370e833",
   "metadata": {
    "execution": {
     "iopub.execute_input": "2024-03-19T17:27:43.608587Z",
     "iopub.status.busy": "2024-03-19T17:27:43.608222Z",
     "iopub.status.idle": "2024-03-19T17:27:43.615528Z",
     "shell.execute_reply": "2024-03-19T17:27:43.614465Z"
    },
    "papermill": {
     "duration": 0.014149,
     "end_time": "2024-03-19T17:27:43.618275",
     "exception": false,
     "start_time": "2024-03-19T17:27:43.604126",
     "status": "completed"
    },
    "tags": []
   },
   "outputs": [
    {
     "name": "stdout",
     "output_type": "stream",
     "text": [
      "['00000', '00001', '00010', '00011', '00100', '00101', '00110', '00111', '01000', '01001', '01010', '01011', '01100', '01101', '01110', '01111', '10000', '10001', '10010', '10011', '10100', '10101', '10110', '10111', '11000', '11001', '11010', '11011', '11100', '11101', '11110', '11111']\n"
     ]
    }
   ],
   "source": [
    "def gen_cases(size):\n",
    "    cases = []\n",
    "    for i in range(size):\n",
    "        binary_string = bin(i)\n",
    "        binary_string_without_prefix = binary_string[2:]\n",
    "        cases.append(binary_string_without_prefix)\n",
    "    for pos in range(len(cases)):\n",
    "        length = len(cases[-1]) - len(cases[pos])\n",
    "        if length !=0:\n",
    "            for i in range(length):\n",
    "                cases[pos] = \"0\"+cases[pos]\n",
    "        else:\n",
    "            break\n",
    "    return cases\n",
    "cases = gen_cases(32)\n",
    "print(cases)"
   ]
  },
  {
   "cell_type": "code",
   "execution_count": 4,
   "id": "7c534b73",
   "metadata": {
    "execution": {
     "iopub.execute_input": "2024-03-19T17:27:43.625960Z",
     "iopub.status.busy": "2024-03-19T17:27:43.625274Z",
     "iopub.status.idle": "2024-03-19T17:27:43.646263Z",
     "shell.execute_reply": "2024-03-19T17:27:43.645187Z"
    },
    "papermill": {
     "duration": 0.027418,
     "end_time": "2024-03-19T17:27:43.648527",
     "exception": false,
     "start_time": "2024-03-19T17:27:43.621109",
     "status": "completed"
    },
    "tags": []
   },
   "outputs": [
    {
     "data": {
      "text/html": [
       "<div>\n",
       "<style scoped>\n",
       "    .dataframe tbody tr th:only-of-type {\n",
       "        vertical-align: middle;\n",
       "    }\n",
       "\n",
       "    .dataframe tbody tr th {\n",
       "        vertical-align: top;\n",
       "    }\n",
       "\n",
       "    .dataframe thead th {\n",
       "        text-align: right;\n",
       "    }\n",
       "</style>\n",
       "<table border=\"1\" class=\"dataframe\">\n",
       "  <thead>\n",
       "    <tr style=\"text-align: right;\">\n",
       "      <th></th>\n",
       "      <th>Hammer</th>\n",
       "      <th>Screw</th>\n",
       "      <th>Towel</th>\n",
       "      <th>Wrench</th>\n",
       "      <th>Screwdriver</th>\n",
       "    </tr>\n",
       "  </thead>\n",
       "  <tbody>\n",
       "    <tr>\n",
       "      <th>Value</th>\n",
       "      <td>11</td>\n",
       "      <td>4</td>\n",
       "      <td>8</td>\n",
       "      <td>3</td>\n",
       "      <td>6</td>\n",
       "    </tr>\n",
       "    <tr>\n",
       "      <th>Weight</th>\n",
       "      <td>3</td>\n",
       "      <td>2</td>\n",
       "      <td>5</td>\n",
       "      <td>7</td>\n",
       "      <td>4</td>\n",
       "    </tr>\n",
       "  </tbody>\n",
       "</table>\n",
       "</div>"
      ],
      "text/plain": [
       "        Hammer  Screw  Towel  Wrench  Screwdriver\n",
       "Value       11      4      8       3            6\n",
       "Weight       3      2      5       7            4"
      ]
     },
     "execution_count": 4,
     "metadata": {},
     "output_type": "execute_result"
    }
   ],
   "source": [
    "items = {\"Hammer\":[11,3], \"Screw\":[4,2],\"Towel\":[8,5],\"Wrench\":[3,7],\"Screwdriver\":[6,4]}\n",
    "df = pd.DataFrame(items, index=[\"Value\",\"Weight\"])\n",
    "df"
   ]
  },
  {
   "cell_type": "code",
   "execution_count": 5,
   "id": "3e7beb09",
   "metadata": {
    "execution": {
     "iopub.execute_input": "2024-03-19T17:27:43.656743Z",
     "iopub.status.busy": "2024-03-19T17:27:43.656218Z",
     "iopub.status.idle": "2024-03-19T17:27:43.690709Z",
     "shell.execute_reply": "2024-03-19T17:27:43.689891Z"
    },
    "papermill": {
     "duration": 0.041268,
     "end_time": "2024-03-19T17:27:43.693023",
     "exception": false,
     "start_time": "2024-03-19T17:27:43.651755",
     "status": "completed"
    },
    "tags": []
   },
   "outputs": [],
   "source": [
    "cpt = 1\n",
    "for poss in cases:\n",
    "    f = []\n",
    "    for n in poss:\n",
    "        f.append(int(n))\n",
    "        s = str(cpt)\n",
    "    df.loc[\"pos\"+s]=f\n",
    "    cpt +=1"
   ]
  },
  {
   "cell_type": "code",
   "execution_count": 6,
   "id": "638f111e",
   "metadata": {
    "execution": {
     "iopub.execute_input": "2024-03-19T17:27:43.701470Z",
     "iopub.status.busy": "2024-03-19T17:27:43.700879Z",
     "iopub.status.idle": "2024-03-19T17:27:43.719413Z",
     "shell.execute_reply": "2024-03-19T17:27:43.718510Z"
    },
    "papermill": {
     "duration": 0.025676,
     "end_time": "2024-03-19T17:27:43.721813",
     "exception": false,
     "start_time": "2024-03-19T17:27:43.696137",
     "status": "completed"
    },
    "tags": []
   },
   "outputs": [],
   "source": [
    "sums = [df.loc['Value'].sum(),df.loc['Weight'].sum()]\n",
    "weights = [df.loc['Value'].sum(),df.loc['Weight'].sum()]\n",
    "for i in range(1,33):\n",
    "    s = 0\n",
    "    w = 0\n",
    "    for col in df.columns:\n",
    "        s += df.loc['pos'+str(i),col] * df.loc['Value',col]\n",
    "        w += df.loc['pos'+str(i),col] * df.loc['Weight',col]\n",
    "    sums.append(s)\n",
    "    weights.append(w)\n",
    "df['Total Values'] = sums\n",
    "df['Total Weights'] = weights"
   ]
  },
  {
   "cell_type": "code",
   "execution_count": 7,
   "id": "adc8726c",
   "metadata": {
    "execution": {
     "iopub.execute_input": "2024-03-19T17:27:43.729924Z",
     "iopub.status.busy": "2024-03-19T17:27:43.729318Z",
     "iopub.status.idle": "2024-03-19T17:27:43.747655Z",
     "shell.execute_reply": "2024-03-19T17:27:43.746579Z"
    },
    "papermill": {
     "duration": 0.024948,
     "end_time": "2024-03-19T17:27:43.749943",
     "exception": false,
     "start_time": "2024-03-19T17:27:43.724995",
     "status": "completed"
    },
    "tags": []
   },
   "outputs": [
    {
     "data": {
      "text/html": [
       "<div>\n",
       "<style scoped>\n",
       "    .dataframe tbody tr th:only-of-type {\n",
       "        vertical-align: middle;\n",
       "    }\n",
       "\n",
       "    .dataframe tbody tr th {\n",
       "        vertical-align: top;\n",
       "    }\n",
       "\n",
       "    .dataframe thead th {\n",
       "        text-align: right;\n",
       "    }\n",
       "</style>\n",
       "<table border=\"1\" class=\"dataframe\">\n",
       "  <thead>\n",
       "    <tr style=\"text-align: right;\">\n",
       "      <th></th>\n",
       "      <th>Hammer</th>\n",
       "      <th>Screw</th>\n",
       "      <th>Towel</th>\n",
       "      <th>Wrench</th>\n",
       "      <th>Screwdriver</th>\n",
       "      <th>Total Values</th>\n",
       "      <th>Total Weights</th>\n",
       "    </tr>\n",
       "  </thead>\n",
       "  <tbody>\n",
       "    <tr>\n",
       "      <th>pos30</th>\n",
       "      <td>1</td>\n",
       "      <td>1</td>\n",
       "      <td>1</td>\n",
       "      <td>0</td>\n",
       "      <td>1</td>\n",
       "      <td>29</td>\n",
       "      <td>14</td>\n",
       "    </tr>\n",
       "  </tbody>\n",
       "</table>\n",
       "</div>"
      ],
      "text/plain": [
       "       Hammer  Screw  Towel  Wrench  Screwdriver  Total Values  Total Weights\n",
       "pos30       1      1      1       0            1            29             14"
      ]
     },
     "execution_count": 7,
     "metadata": {},
     "output_type": "execute_result"
    }
   ],
   "source": [
    "dfs = df[df[\"Total Weights\"]<= 15]\n",
    "dfs.sort_values(by=\"Total Values\",ascending=False).head(1)"
   ]
  },
  {
   "cell_type": "code",
   "execution_count": 8,
   "id": "122a4782",
   "metadata": {
    "execution": {
     "iopub.execute_input": "2024-03-19T17:27:43.758144Z",
     "iopub.status.busy": "2024-03-19T17:27:43.757215Z",
     "iopub.status.idle": "2024-03-19T17:27:43.763466Z",
     "shell.execute_reply": "2024-03-19T17:27:43.762524Z"
    },
    "papermill": {
     "duration": 0.012318,
     "end_time": "2024-03-19T17:27:43.765457",
     "exception": false,
     "start_time": "2024-03-19T17:27:43.753139",
     "status": "completed"
    },
    "tags": []
   },
   "outputs": [
    {
     "data": {
      "text/plain": [
       "'Therefor our optimal solution would be\\n1 Hamer, 1 Screw, 1 Towel and 1 Screwdriver'"
      ]
     },
     "execution_count": 8,
     "metadata": {},
     "output_type": "execute_result"
    }
   ],
   "source": [
    "\"\"\"Therefor our optimal solution would be\n",
    "1 Hamer, 1 Screw, 1 Towel and 1 Screwdriver\"\"\""
   ]
  }
 ],
 "metadata": {
  "kaggle": {
   "accelerator": "none",
   "dataSources": [],
   "dockerImageVersionId": 30664,
   "isGpuEnabled": false,
   "isInternetEnabled": false,
   "language": "python",
   "sourceType": "notebook"
  },
  "kernelspec": {
   "display_name": "Python 3",
   "language": "python",
   "name": "python3"
  },
  "language_info": {
   "codemirror_mode": {
    "name": "ipython",
    "version": 3
   },
   "file_extension": ".py",
   "mimetype": "text/x-python",
   "name": "python",
   "nbconvert_exporter": "python",
   "pygments_lexer": "ipython3",
   "version": "3.10.13"
  },
  "papermill": {
   "default_parameters": {},
   "duration": 4.11,
   "end_time": "2024-03-19T17:27:44.189218",
   "environment_variables": {},
   "exception": null,
   "input_path": "__notebook__.ipynb",
   "output_path": "__notebook__.ipynb",
   "parameters": {},
   "start_time": "2024-03-19T17:27:40.079218",
   "version": "2.5.0"
  }
 },
 "nbformat": 4,
 "nbformat_minor": 5
}
